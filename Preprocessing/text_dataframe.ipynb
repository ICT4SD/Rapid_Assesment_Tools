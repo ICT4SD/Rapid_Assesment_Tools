{
 "cells": [
  {
   "cell_type": "code",
   "execution_count": 2,
   "metadata": {},
   "outputs": [],
   "source": [
    "import re\n",
    "\n",
    "with open('/Users/Maxwell/PycharmProjects/Github/Rapid_Assessment_Tools/SharedFiles/Fordham/RIA Bhutan/Docs Reviewed/Eleventh-Five-Year-Plan_Vol-1.txt') as f:\n",
    "    txt = f.read()\n",
    "\n",
    "txt = re.sub(r'[^\\x00-\\x7F]+|\\x0c', '', txt)\n",
    "rule = re.compile(r'(\\.)\\n\\s*([A-Z])')\n",
    "txt = re.sub(rule, r'\\1\\n\\n\\n\\2', txt)"
   ]
  },
  {
   "cell_type": "code",
   "execution_count": 4,
   "metadata": {},
   "outputs": [
    {
     "data": {
      "text/plain": [
       "[\"The main purpose of developing the GNH Index was to ensure that the policies and programmes pursued , following the changes in the system of governance , continued to be consistent with GNH . It was also to ensure that the Constitutional requirement under Article 9-2 which directs the State `` to promote those conditions that will enable the pursuit of Gross National Happiness '' would be fulfilled .\",\n 'The GNH Index has been developed based on biennial surveys of 2008 and 2010 .',\n 'The 2010 GNH Index comprises of 9 domains , 33 indicators and 124 variables . Of the 9 domains , 5 represent the conventional indicators of health , education , living standards , ecological diversity and resilience and good governance which are used by most countries to measure development . The 4 new indicators that attempt to measure the intangible needs of an individual and society include psychological wellbeing ; time use ; community vitality ; and cultural diversity and resilience . Each domain is measured based on 2-4 indicators , as illustrated in Table 1.1 .',\n 'Table 1.1 Nine Domains of GNH Index Indicators Domain 4 4 1 Psychological wellbeing 2 2 Health 3 Time use 4 4 Education 5 Cultural diversity and resilience 4 6 Good governance 4 7 Community vitality 4 8 Ecological diversity and resilience 4 9 Living standards 3 33 Total 5Centre for Bhutan Studies . 32 Eleventh Five Year Plan - Main Document Volume I BACKGROUND 01 The GNH Index provides an overview of performance across the 9 domains of GNH . The 2010 GNH Index of 0.743 shows that overall 41 percent of Bhutanese are identified as happy as they enjoyed sufficiency in 73 percent of the domains while the remaining 59 percent enjoyed sufficiency in 57 percent of the domains on an average . Financial security , good health and family relationships were the top three sources of happiness at the national level as per the GNH 2010 Survey .',\n \"Graph 1.1 - Source of Happiness ( National ) % of respondents 0 % 10 % 20 % 30 % 40 % 50 % 60 % 70 % 80 % Financial security Good health Family relationships Land ownership Access to road Housing Access to electricity Agricultural productivity Children 's education and success Basic needs Community relationships Education and personal development Employment and job satisfaction Health and wellbeing of family members Good governance and welfare systems Principles and responsibility Health infrastructure and facilities Access to clean drinking water Faith and spiritual pursuits Educational infrastructure and faciliti Mental peace Car Others Livestock ownership Country 's peace and security Communication and media facilities Clean environment Recreational activities Source : GNH 2010 Survey 33 Eleventh Five Year Plan - Main Document Volume I Among the Dzongkhags , the five western Dzongkhags and three south central Dzongkhags enjoyed higher levels of sufficiency while Trashiyangtse , Lhuentse , Trongsa and Samdrup Jongkhar had lower levels of sufficiency .\",\n 'Picture 1.1 - GNH index by district GNH Index by district LHoigwhGerNGHNIHndInexdex LHoigwherGGNNHHInIdndexex Source : GNH 2010 Survey The key findings of 2010 GNH Survey as per the Short Guide to GNH Index , Centre for Bhutan Studies were as follows .',\n 'Men were happier than women on average .',\n 'Of the nine domains , Bhutanese had the most sufficiency in health , followed by ecology , psychological wellbeing , and community vitality . 50 percent of people were happy in urban areas ; in rural areas it was 37 percent .',\n 'Urban areas did better in health , living standards and education . Rural areas did better in community vitality , cultural resilience , and good governance .',\n 'Happiness was higher among people with primary education or above than among those with no formal education , but higher education did not affect GNH very much . 34 Eleventh Five Year Plan - Main Document Volume I BACKGROUND 01 The happiest people by occupation were civil servants , monks/nuns , and GYT/DYT members . Unemployed were happier than corporate employees , housewives , farmers or the national work force .']"
      ]
     },
     "execution_count": 4,
     "metadata": {},
     "output_type": "execute_result"
    }
   ],
   "source": [
    "import pandas as pd\n",
    "from nltk import tokenize\n",
    "\n",
    "rawText = txt.split(sep='\\n\\n\\n')\n",
    "finalText = []\n",
    "\n",
    "for p in rawText:\n",
    "    s = tokenize.sent_tokenize(p)\n",
    "    s = '\\n'.join(s)\n",
    "    token = tokenize.word_tokenize(s)\n",
    "    finalText.append(' '.join(token))\n",
    "\n",
    "finalText[100:110]"
   ]
  },
  {
   "cell_type": "code",
   "execution_count": 124,
   "metadata": {},
   "outputs": [],
   "source": [
    "SDG = pd.read_excel('/Users/Maxwell/PycharmProjects/Github/Rapid_Assessment_Tools/SDG goals-v.2.xlsx').dropna()\n",
    "df = SDG.loc[:,'SDG sub Goal content'].tolist()\n",
    "df.extend(finalText)"
   ]
  },
  {
   "cell_type": "code",
   "execution_count": 127,
   "metadata": {},
   "outputs": [],
   "source": [
    "from sklearn.feature_extraction.text import TfidfVectorizer\n",
    "\n",
    "vectorizer = TfidfVectorizer(ngram_range=(1,1))"
   ]
  },
  {
   "cell_type": "code",
   "execution_count": 128,
   "metadata": {},
   "outputs": [],
   "source": [
    "tfidf = vectorizer.fit_transform(df)        \n",
    "pairwise_similarity = tfidf * tfidf.T"
   ]
  },
  {
   "cell_type": "code",
   "execution_count": 130,
   "metadata": {},
   "outputs": [],
   "source": [
    "output = pd.DataFrame(pairwise_similarity.A[159:, :158])\n",
    "output.to_csv('output.csv')"
   ]
  },
  {
   "cell_type": "code",
   "execution_count": null,
   "metadata": {},
   "outputs": [],
   "source": [
    ""
   ]
  }
 ],
 "metadata": {
  "kernelspec": {
   "display_name": "Python 2",
   "language": "python",
   "name": "python2"
  },
  "language_info": {
   "codemirror_mode": {
    "name": "ipython",
    "version": 2.0
   },
   "file_extension": ".py",
   "mimetype": "text/x-python",
   "name": "python",
   "nbconvert_exporter": "python",
   "pygments_lexer": "ipython2",
   "version": "2.7.6"
  }
 },
 "nbformat": 4,
 "nbformat_minor": 0
}
