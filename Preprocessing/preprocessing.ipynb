{
 "cells": [
  {
   "cell_type": "code",
   "execution_count": 1,
   "metadata": {
    "collapsed": true
   },
   "outputs": [],
   "source": [
    "import nltk\n",
    "tokenizer = nltk.data.load('tokenizers/punkt/english.pickle')\n",
    "\n",
    "with open('/Users/Maxwell/PycharmProjects/Github/Rapid_Assessment_Tools/SharedFiles/Fordham/RIA Bhutan/Docs Reviewed/Eleventh-Five-Year-Plan_Vol-1.txt') as f:\n",
    "    data = f.read()\n",
    "    text_list = tokenizer.tokenize(data)"
   ]
  },
  {
   "cell_type": "code",
   "execution_count": 2,
   "metadata": {},
   "outputs": [],
   "source": [
    "from nltk import tokenize\n",
    "with open('/Users/Maxwell/PycharmProjects/Github/Rapid_Assessment_Tools/SharedFiles/Fordham/RIA Bhutan/Docs Reviewed/Eleventh-Five-Year-Plan_Vol-1.txt') as f:\n",
    "    data = f.read()\n",
    "    sen = tokenize.sent_tokenize(data)"
   ]
  },
  {
   "cell_type": "code",
   "execution_count": 4,
   "metadata": {},
   "outputs": [],
   "source": [
    "sentences = []\n",
    "for text in text_list:\n",
    "    token = nltk.word_tokenize(text)\n",
    "    sentence = ' '.join(token)\n",
    "    sentences.append(sentence)"
   ]
  },
  {
   "cell_type": "code",
   "execution_count": 9,
   "metadata": {},
   "outputs": [],
   "source": [
    "import pandas as pd\n",
    "\n",
    "SDG = pd.read_excel('/Users/Maxwell/PycharmProjects/Github/Rapid_Assessment_Tools/SDG goals-v.2.xlsx').dropna()"
   ]
  },
  {
   "cell_type": "code",
   "execution_count": 10,
   "metadata": {},
   "outputs": [
    {
     "data": {
      "text/html": [
       "<div>\n",
       "<table border=\"1\" class=\"dataframe\">\n",
       "  <thead>\n",
       "    <tr style=\"text-align: right;\">\n",
       "      <th></th>\n",
       "      <th>SDG Goal</th>\n",
       "      <th>Goal name</th>\n",
       "      <th>Goal Content</th>\n",
       "      <th>SDG sub Goal</th>\n",
       "      <th>SDG sub Goal content</th>\n",
       "    </tr>\n",
       "  </thead>\n",
       "  <tbody>\n",
       "    <tr>\n",
       "      <th>0</th>\n",
       "      <td>1</td>\n",
       "      <td>Poverty</td>\n",
       "      <td>Goal 1. End poverty in all its forms everywhere</td>\n",
       "      <td>1.1</td>\n",
       "      <td>1.1 By 2030, eradicate extreme poverty for all...</td>\n",
       "    </tr>\n",
       "    <tr>\n",
       "      <th>1</th>\n",
       "      <td>1</td>\n",
       "      <td>Poverty</td>\n",
       "      <td>Goal 1. End poverty in all its forms everywhere</td>\n",
       "      <td>1.2</td>\n",
       "      <td>1.2 By 2030, reduce at least by half the propo...</td>\n",
       "    </tr>\n",
       "    <tr>\n",
       "      <th>2</th>\n",
       "      <td>1</td>\n",
       "      <td>Poverty</td>\n",
       "      <td>Goal 1. End poverty in all its forms everywhere</td>\n",
       "      <td>1.3</td>\n",
       "      <td>1.3 Implement nationally appropriate social pr...</td>\n",
       "    </tr>\n",
       "    <tr>\n",
       "      <th>3</th>\n",
       "      <td>1</td>\n",
       "      <td>Poverty</td>\n",
       "      <td>Goal 1. End poverty in all its forms everywhere</td>\n",
       "      <td>1.4</td>\n",
       "      <td>1.4 By 2030, ensure that all men and women, in...</td>\n",
       "    </tr>\n",
       "    <tr>\n",
       "      <th>4</th>\n",
       "      <td>1</td>\n",
       "      <td>Poverty</td>\n",
       "      <td>Goal 1. End poverty in all its forms everywhere</td>\n",
       "      <td>1.5</td>\n",
       "      <td>1.5 By 2030, build the resilience of the poor ...</td>\n",
       "    </tr>\n",
       "  </tbody>\n",
       "</table>\n",
       "</div>"
      ],
      "text/plain": [
       "<div>\n",
       "<table border=\"1\" class=\"dataframe\">\n",
       "  <thead>\n",
       "    <tr style=\"text-align: right;\">\n",
       "      <th></th>\n",
       "      <th>SDG Goal</th>\n",
       "      <th>Goal name</th>\n",
       "      <th>Goal Content</th>\n",
       "      <th>SDG sub Goal</th>\n",
       "      <th>SDG sub Goal content</th>\n",
       "    </tr>\n",
       "  </thead>\n",
       "  <tbody>\n",
       "    <tr>\n",
       "      <th>0</th>\n",
       "      <td>1</td>\n",
       "      <td>Poverty</td>\n",
       "      <td>Goal 1. End poverty in all its forms everywhere</td>\n",
       "      <td>1.1</td>\n",
       "      <td>1.1 By 2030, eradicate extreme poverty for all...</td>\n",
       "    </tr>\n",
       "    <tr>\n",
       "      <th>1</th>\n",
       "      <td>1</td>\n",
       "      <td>Poverty</td>\n",
       "      <td>Goal 1. End poverty in all its forms everywhere</td>\n",
       "      <td>1.2</td>\n",
       "      <td>1.2 By 2030, reduce at least by half the propo...</td>\n",
       "    </tr>\n",
       "    <tr>\n",
       "      <th>2</th>\n",
       "      <td>1</td>\n",
       "      <td>Poverty</td>\n",
       "      <td>Goal 1. End poverty in all its forms everywhere</td>\n",
       "      <td>1.3</td>\n",
       "      <td>1.3 Implement nationally appropriate social pr...</td>\n",
       "    </tr>\n",
       "    <tr>\n",
       "      <th>3</th>\n",
       "      <td>1</td>\n",
       "      <td>Poverty</td>\n",
       "      <td>Goal 1. End poverty in all its forms everywhere</td>\n",
       "      <td>1.4</td>\n",
       "      <td>1.4 By 2030, ensure that all men and women, in...</td>\n",
       "    </tr>\n",
       "    <tr>\n",
       "      <th>4</th>\n",
       "      <td>1</td>\n",
       "      <td>Poverty</td>\n",
       "      <td>Goal 1. End poverty in all its forms everywhere</td>\n",
       "      <td>1.5</td>\n",
       "      <td>1.5 By 2030, build the resilience of the poor ...</td>\n",
       "    </tr>\n",
       "  </tbody>\n",
       "</table>\n",
       "</div>"
      ]
     },
     "execution_count": 10,
     "metadata": {},
     "output_type": "execute_result"
    }
   ],
   "source": [
    "SDG.head()"
   ]
  },
  {
   "cell_type": "code",
   "execution_count": 11,
   "metadata": {},
   "outputs": [],
   "source": [
    "X = SDG.loc[:,'SDG sub Goal content']\n",
    "y = SDG.loc[:,'SDG Goal']"
   ]
  },
  {
   "cell_type": "code",
   "execution_count": 12,
   "metadata": {},
   "outputs": [],
   "source": [
    "from sklearn.feature_extraction.text import CountVectorizer\n",
    "\n",
    "vect = CountVectorizer(ngram_range=(1,2))"
   ]
  },
  {
   "cell_type": "code",
   "execution_count": 13,
   "metadata": {},
   "outputs": [],
   "source": [
    "vect.fit(X)\n",
    "X_train_dtm = vect.transform(X)"
   ]
  },
  {
   "cell_type": "code",
   "execution_count": 14,
   "metadata": {},
   "outputs": [
    {
     "data": {
      "text/plain": [
       "<159x3800 sparse matrix of type '<class 'numpy.int64'>'\n\twith 7910 stored elements in Compressed Sparse Row format>"
      ]
     },
     "execution_count": 14,
     "metadata": {},
     "output_type": "execute_result"
    }
   ],
   "source": [
    "X_train_dtm"
   ]
  },
  {
   "cell_type": "code",
   "execution_count": 15,
   "metadata": {},
   "outputs": [],
   "source": [
    "X_test = ['Strategic Human Settlements developed for regionally balanced development and improved quality of life and socioeconomic status of both urban and rural residents']"
   ]
  },
  {
   "cell_type": "code",
   "execution_count": 16,
   "metadata": {},
   "outputs": [
    {
     "data": {
      "text/plain": [
       "<1x3800 sparse matrix of type '<class 'numpy.int64'>'\n\twith 18 stored elements in Compressed Sparse Row format>"
      ]
     },
     "execution_count": 16,
     "metadata": {},
     "output_type": "execute_result"
    }
   ],
   "source": [
    "X_test_dtm = vect.transform(X_test)\n",
    "X_test_dtm"
   ]
  },
  {
   "cell_type": "code",
   "execution_count": 17,
   "metadata": {},
   "outputs": [],
   "source": [
    "from sklearn.naive_bayes import MultinomialNB\n",
    "nb = MultinomialNB()"
   ]
  },
  {
   "cell_type": "code",
   "execution_count": 18,
   "metadata": {},
   "outputs": [
    {
     "data": {
      "text/plain": [
       "MultinomialNB(alpha=1.0, class_prior=None, fit_prior=True)"
      ]
     },
     "execution_count": 18,
     "metadata": {},
     "output_type": "execute_result"
    }
   ],
   "source": [
    "nb.fit(X_train_dtm, y)"
   ]
  },
  {
   "cell_type": "code",
   "execution_count": 19,
   "metadata": {},
   "outputs": [
    {
     "data": {
      "text/plain": [
       "array([17])"
      ]
     },
     "execution_count": 19,
     "metadata": {},
     "output_type": "execute_result"
    }
   ],
   "source": [
    "y_pred_class = nb.predict(X_test_dtm)\n",
    "y_pred_class"
   ]
  },
  {
   "cell_type": "code",
   "execution_count": 20,
   "metadata": {},
   "outputs": [
    {
     "data": {
      "text/plain": [
       "array([4])"
      ]
     },
     "execution_count": 20,
     "metadata": {},
     "output_type": "execute_result"
    }
   ],
   "source": [
    "from sklearn.multiclass import OneVsOneClassifier, OneVsRestClassifier\n",
    "from sklearn.svm import LinearSVC\n",
    "\n",
    "OneVsRestClassifier(LinearSVC(random_state=0)).fit(X_train_dtm, y).predict(X_test_dtm)"
   ]
  },
  {
   "cell_type": "code",
   "execution_count": 21,
   "metadata": {},
   "outputs": [
    {
     "data": {
      "text/plain": [
       "array([8])"
      ]
     },
     "execution_count": 21,
     "metadata": {},
     "output_type": "execute_result"
    }
   ],
   "source": [
    "OneVsOneClassifier(LinearSVC(random_state=0)).fit(X_train_dtm, y).predict(X_test_dtm)"
   ]
  },
  {
   "cell_type": "markdown",
   "metadata": {},
   "source": [
    "Wrong Prediction. Sad"
   ]
  },
  {
   "cell_type": "code",
   "execution_count": 22,
   "metadata": {},
   "outputs": [],
   "source": [
    "from sklearn.feature_extraction.text import TfidfVectorizer\n",
    "\n",
    "vectorizer = TfidfVectorizer(ngram_range=(1,1))"
   ]
  },
  {
   "cell_type": "code",
   "execution_count": 23,
   "metadata": {},
   "outputs": [],
   "source": [
    "df = X \n",
    "#df.loc['test'] = sentences[500]\n",
    "df.loc['test'] = '''\n",
    "Generate additional employment opportunities and increase mean annual rural household cash income\n",
    "'''"
   ]
  },
  {
   "cell_type": "code",
   "execution_count": 24,
   "metadata": {},
   "outputs": [],
   "source": [
    "tfidf = vectorizer.fit_transform(df)        \n",
    "pairwise_similarity = tfidf * tfidf.T"
   ]
  },
  {
   "cell_type": "code",
   "execution_count": 25,
   "metadata": {},
   "outputs": [
    {
     "data": {
      "text/plain": [
       "array([ 0.        ,  0.00387488,  0.01293758,  0.01406606,  0.02100066,\n        0.00642935,  0.00707074,  0.01098371,  0.01179896,  0.09642261,\n        0.0364039 ,  0.02207164,  0.09530934,  0.00812365,  0.00568207,\n        0.        ,  0.00421832,  0.00955197,  0.01158166,  0.00814403,\n        0.00503366,  0.01412685,  0.00994551,  0.01749742,  0.        ,\n        0.01044098,  0.04561957,  0.00942152,  0.01553111,  0.00649839,\n        0.01464434,  0.09149643,  0.01052563,  0.01385927,  0.01210915,\n        0.01512406,  0.01343147,  0.04047585,  0.00615215,  0.01643359,\n        0.00871725,  0.08202737,  0.08490429,  0.01399663,  0.00940705,\n        0.00500798,  0.01698373,  0.0123829 ,  0.01839397,  0.01270243,\n        0.03632456,  0.        ,  0.0090556 ,  0.01316335,  0.01147979,\n        0.00648494,  0.04644604,  0.        ,  0.01158089,  0.00971235,\n        0.00322415,  0.00749592,  0.0127463 ,  0.00892967,  0.05884364,\n        0.07072499,  0.01390266,  0.05656245,  0.01386392,  0.00931961,\n        0.03273789,  0.06461555,  0.01491041,  0.05842798,  0.04750581,\n        0.01164839,  0.01406394,  0.01088518,  0.00749639,  0.05345899,\n        0.07440306,  0.00642723,  0.01414994,  0.0088735 ,  0.01394426,\n        0.01010298,  0.01065366,  0.00434676,  0.00873333,  0.00304992,\n        0.01499266,  0.00551427,  0.01785626,  0.01059668,  0.00819323,\n        0.00778208,  0.01536048,  0.07544344,  0.03582812,  0.00924443,\n        0.00632187,  0.00647921,  0.00947351,  0.01110749,  0.00542473,\n        0.00712769,  0.0053418 ,  0.00897872,  0.00882406,  0.01200778,\n        0.00807415,  0.01034299,  0.00576909,  0.01206391,  0.00435321,\n        0.01433244,  0.01337885,  0.03958419,  0.00923074,  0.        ,\n        0.01059086,  0.00744372,  0.01386048,  0.01003484,  0.01254368,\n        0.05737926,  0.01024853,  0.06973286,  0.00571765,  0.01013161,\n        0.01022838,  0.01139679,  0.00665889,  0.00631046,  0.00530735,\n        0.00571773,  0.        ,  0.00960583,  0.00837176,  0.01221291,\n        0.0041667 ,  0.00156706,  0.12583369,  0.00365027,  0.00636229,\n        0.01402139,  0.00676177,  0.01236723,  0.00608532,  0.00312625,\n        0.03539399,  0.00701157,  0.00471511,  0.        ,  0.01269967,\n        0.00641028,  0.01064655,  0.0806581 ,  0.00357387])"
      ]
     },
     "execution_count": 25,
     "metadata": {},
     "output_type": "execute_result"
    }
   ],
   "source": [
    "pairwise_similarity.A[-1, :-1]"
   ]
  },
  {
   "cell_type": "code",
   "execution_count": 31,
   "metadata": {},
   "outputs": [
    {
     "data": {
      "text/plain": [
       "array([[ 0.        ,  0.00387488,  0.01293758,  0.01406606,  0.02100066,\n         0.00642935,  0.00707074,  0.01098371,  0.01179896,  0.09642261,\n         0.0364039 ,  0.02207164,  0.09530934,  0.00812365,  0.00568207,\n         0.        ,  0.00421832,  0.00955197,  0.01158166,  0.00814403,\n         0.00503366,  0.01412685,  0.00994551,  0.01749742,  0.        ,\n         0.01044098,  0.04561957,  0.00942152,  0.01553111,  0.00649839,\n         0.01464434,  0.09149643,  0.01052563,  0.01385927,  0.01210915,\n         0.01512406,  0.01343147,  0.04047585,  0.00615215,  0.01643359,\n         0.00871725,  0.08202737,  0.08490429,  0.01399663,  0.00940705,\n         0.00500798,  0.01698373,  0.0123829 ,  0.01839397,  0.01270243,\n         0.03632456,  0.        ,  0.0090556 ,  0.01316335,  0.01147979,\n         0.00648494,  0.04644604,  0.        ,  0.01158089,  0.00971235,\n         0.00322415,  0.00749592,  0.0127463 ,  0.00892967,  0.05884364,\n         0.07072499,  0.01390266,  0.05656245,  0.01386392,  0.00931961,\n         0.03273789,  0.06461555,  0.01491041,  0.05842798,  0.04750581,\n         0.01164839,  0.01406394,  0.01088518,  0.00749639,  0.05345899,\n         0.07440306,  0.00642723,  0.01414994,  0.0088735 ,  0.01394426,\n         0.01010298,  0.01065366,  0.00434676,  0.00873333,  0.00304992,\n         0.01499266,  0.00551427,  0.01785626,  0.01059668,  0.00819323,\n         0.00778208,  0.01536048,  0.07544344,  0.03582812,  0.00924443,\n         0.00632187,  0.00647921,  0.00947351,  0.01110749,  0.00542473,\n         0.00712769,  0.0053418 ,  0.00897872,  0.00882406,  0.01200778,\n         0.00807415,  0.01034299,  0.00576909,  0.01206391,  0.00435321,\n         0.01433244,  0.01337885,  0.03958419,  0.00923074,  0.        ,\n         0.01059086,  0.00744372,  0.01386048,  0.01003484,  0.01254368,\n         0.05737926,  0.01024853,  0.06973286,  0.00571765,  0.01013161,\n         0.01022838,  0.01139679,  0.00665889,  0.00631046,  0.00530735,\n         0.00571773,  0.        ,  0.00960583,  0.00837176,  0.01221291,\n         0.0041667 ,  0.00156706,  0.12583369,  0.00365027,  0.00636229,\n         0.01402139,  0.00676177,  0.01236723,  0.00608532,  0.00312625,\n         0.03539399,  0.00701157,  0.00471511,  0.        ,  0.01269967,\n         0.00641028,  0.01064655,  0.0806581 ]])"
      ]
     },
     "execution_count": 31,
     "metadata": {},
     "output_type": "execute_result"
    }
   ],
   "source": [
    "pairwise_similarity.A[159:, :158]"
   ]
  },
  {
   "cell_type": "code",
   "execution_count": null,
   "metadata": {},
   "outputs": [],
   "source": [
    ""
   ]
  }
 ],
 "metadata": {
  "kernelspec": {
   "display_name": "Python 2",
   "language": "python",
   "name": "python2"
  },
  "language_info": {
   "codemirror_mode": {
    "name": "ipython",
    "version": 2.0
   },
   "file_extension": ".py",
   "mimetype": "text/x-python",
   "name": "python",
   "nbconvert_exporter": "python",
   "pygments_lexer": "ipython2",
   "version": "2.7.6"
  }
 },
 "nbformat": 4,
 "nbformat_minor": 0
}
