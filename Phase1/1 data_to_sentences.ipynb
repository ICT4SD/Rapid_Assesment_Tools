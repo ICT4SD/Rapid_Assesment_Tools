{
 "cells": [
  {
   "cell_type": "code",
   "execution_count": null,
   "metadata": {
    "collapsed": true
   },
   "outputs": [],
   "source": [
    "# -*- coding: utf-8 -*-\n",
    "# Python 3.5"
   ]
  },
  {
   "cell_type": "code",
   "execution_count": 1,
   "metadata": {
    "collapsed": true
   },
   "outputs": [],
   "source": [
    "# load file to list 'sentences' split by sentence\n",
    "\n",
    "import re\n",
    "caps = \"([A-Z])\"\n",
    "prefixes = \"(Mr|St|Mrs|Ms|Dr)[.]\"\n",
    "suffixes = \"(Inc|Ltd|Jr|Sr|Co)\"\n",
    "starters = \"(Mr|Mrs|Ms|Dr|He\\s|She\\s|It\\s|They\\s|Their\\s|Our\\s|We\\s|But\\s|However\\s|That\\s|This\\s|Wherever)\"\n",
    "acronyms = \"([A-Z][.][A-Z][.](?:[A-Z][.])?)\"\n",
    "websites = \"[.](com|net|org|io|gov)\"\n",
    "\n",
    "def to_sentences(text):\n",
    "    text = \" \" + text + \"  \"\n",
    "    text = text.replace(\"\\n\", \" \")\n",
    "    text = re.sub(prefixes, \"\\\\1<prd>\", text)\n",
    "    text = re.sub(websites, \"<prd>\\\\1\", text)\n",
    "    if \"Ph.D\" in text: text = text.replace(\"Ph.D.\", \"Ph<prd>D<prd>\")\n",
    "    text = re.sub(\"\\s\" + caps + \"[.] \", \" \\\\1<prd> \", text)\n",
    "    text = re.sub(acronyms+\" \"+starters, \"\\\\1<stop> \\\\2\", text)\n",
    "    text = re.sub(caps + \"[.]\" + caps + \"[.]\" + caps + \"[.]\", \"\\\\1<prd>\\\\2<prd>\\\\3<prd>\", text)\n",
    "    text = re.sub(caps + \"[.]\" + caps + \"[.]\", \"\\\\1<prd>\\\\2<prd>\", text)\n",
    "    text = re.sub(\" \"+suffixes+\"[.] \"+starters, \" \\\\1<stop> \\\\2\", text)\n",
    "    text = re.sub(\" \"+suffixes+\"[.]\", \" \\\\1<prd>\", text)\n",
    "    text = re.sub(\" \" + caps + \"[.]\", \" \\\\1<prd>\", text)\n",
    "    if \"”\" in text: text = text.replace(\".”\", \"”.\")\n",
    "    if \"\\\"\" in text: text = text.replace(\".\\\"\", \"\\\".\")\n",
    "    if \"!\" in text: text = text.replace(\"!\\\"\", \"\\\"!\")\n",
    "    if \"?\" in text: text = text.replace(\"?\\\"\", \"\\\"?\")\n",
    "    text = text.replace(\".\", \".<stop>\")\n",
    "    text = text.replace(\"?\", \"?<stop>\")\n",
    "    text = text.replace(\"!\", \"!<stop>\")\n",
    "    text = text.replace(\"<prd>\", \".\")\n",
    "    text = text.replace(\",  \", \", \")\n",
    "    text = text.replace(\"  \", \" \")\n",
    "    sentences = text.split(\"<stop>\")\n",
    "    sentences = sentences[:-1]\n",
    "    sentences = [s.strip() for s in sentences]\n",
    "    return sentences"
   ]
  },
  {
   "cell_type": "code",
   "execution_count": 3,
   "metadata": {
    "collapsed": false
   },
   "outputs": [
    {
     "data": {
      "text/plain": [
       "5421"
      ]
     },
     "execution_count": 3,
     "metadata": {},
     "output_type": "execute_result"
    }
   ],
   "source": [
    "# \"NSDP.txt\" is transformed by Cambodia's \"National Strategic Development Plan 2014-2018 EN Final.pdf\"\n",
    "# using Adobe\n",
    "\n",
    "dirc = r'C:\\\\Users\\\\DD\\\\OneDrive\\\\Documents\\\\Rapid_Assessment_Tools\\\\Plans_test\\\\cambodia\\\\'\n",
    "\n",
    "f = open(dirc + 'NSDP.txt', 'r').read()\n",
    "sentence_temp = to_sentences(f)\n",
    "\n",
    "# any sentence more than 30 will be remained.\n",
    "sentence = []\n",
    "for lines in sentence_temp:\n",
    "    if len(lines) > 30:\n",
    "        sentence.append(lines.lower())\n",
    "len(sentence)"
   ]
  },
  {
   "cell_type": "code",
   "execution_count": 5,
   "metadata": {
    "collapsed": false
   },
   "outputs": [
    {
     "data": {
      "text/plain": [
       "5313"
      ]
     },
     "execution_count": 5,
     "metadata": {},
     "output_type": "execute_result"
    }
   ],
   "source": [
    "# delete repeated\n",
    "sentence = list(set(sentence))\n",
    "len(sentence)"
   ]
  },
  {
   "cell_type": "code",
   "execution_count": 6,
   "metadata": {
    "collapsed": true
   },
   "outputs": [
    {
     "data": {
      "text/plain": [
       "['rgc established labour cooperation with the countries in the asean region, through participation in asean workshops on unemployment insurance, security measures on revenue, and the active market policy.',\n '\\x02 deploy midwives in all health centers.',\n 'through this group, mosvy has disseminated gender-related issues to its officials both at national and sub-national levels.',\n 'promotion of agricultural sector .',\n 'promote and strengthen implementation of good corporate governance in securities.',\n 'the implementation of the law on forestry and regulations along with good collaboration between all concerned institutions, forest resources are now more strictly managed.',\n 'drugs demand reduction: nacd increased cooperation with ministries, provincial and municipal drugs control committees, the local and international development partners, and other stakeholders.',\n 'during the fourth legislature, the ministry of tourism (mot) focused on improving the quality of tourism services in order to attract visitors, make them extension their stay, and attract new investments in the tourism sector.',\n 'national action plan to combating agricultural land degradation preparation and consultation (on-going).',\n 'implement provisions in the law on labor and organize compilation of laws and documents on occupational health and safety.',\n '9 27 number of technical high schools nos 4 4 5 5 6 7 28 number of student in technical high schools % 897 1,317 1,738 2,159 2,579 3,000 29 literacy rate (15-24) % 91.',\n 'introduce bus public transportation system in the capital area.',\n '10 rgc has set a target of 46,225.',\n 'additionally, it believes that the recent expansion in the physical infrastructure, the growth in industrial crops, and the newfound mineral wealth, will help tide over the immediate problems.',\n '11: women in the wage employment sector.',\n 'formal rice export reached 200,000 tons in 2012, while securing food security, compared to a negligible quantity exported in 2008, rubber export rose by 3.',\n 'hiv and aids: cambodia has made notably progress in the reduction of hiv prevalence.',\n 'build and develop infrastructure backbone of the telecom optic cable network to all provinces and districts where there is economic and tourist potential, and participate to implementing the asean master plan, 2015.',\n 'mainstreaming disaster risk reduction related to climate change into the disaster risk reduction and climate change adaptation strategy.',\n 'inadequate infant and young child feeding (iycf) practices (75% of children did not receive a minimum acceptable diet).',\n 'the policy states, “no vices; no trafficking in women and children; and no domestic violence”.',\n 'determined the identity, culture and tradition of the ethnic minorities in ratanak kiri, mondul kiri, kompong speu, kratie and preah vihear provinces, and issued certificates of recognition of the community identity to 69 communities.',\n '\\x02 organizing annual agricultural/farmers’ assembly.',\n 'between 2009 and 2012, the mine clearance operators cleared and released 40,529ha of contaminated land for productive uses such as agriculture, resettlement, and infrastructure (schools, health centres, roads, and irrigation system), benefiting tens of thousands of households.',\n '2 postpartum women attended postnatal care 2 contraceptive prevalence rate (any modern method) health facility providing youth reproductive health services referral hospitals and health centres providing basic emergency obstetric dn t l c i referral hospitals and health centres providing comprehensive emergency ob t t i d n t l c i new consultation per person per year for children under 5 % % nos nos nos nos na 22.',\n 'enhancing the overall management by using data information system.',\n 'amending the sub-decree on the environmental impact assessment.',\n 'this includes provisions such as allowing teachers to work in their own villages and communes, increasing the number of dormitories, reducing the costs incurred by parents, increasing budget spending for educational institutions as well as strengthening engagement of private sector and concerned development partners.',\n 'establishment of social safety nets for civil servants, employees and  60  workers .',\n 'these whole of government reforms are complex and require a continuous process of dialogue and consensus-building among policy makers.',\n 'strengthened domestic business environment \\x02 a predictable legal and regulatory framework based on international norms is critical for business and trade development.',\n 'establish/implement laws and rules regarding commerce and finance, improve economic governance [budget (deficit ≤3%), trade (deficit ≤3%), inflation control (≤ 5%)], push for implementation.',\n '5%in 2011, an increase of four percentage points compared to chapter ii: major achievements and challenges in the implementation of nsdp update 2009-2013  \\x0c national strategic development plan 2014-2018  2008.',\n 'cooperation and networking for environmental education.',\n 'a 115kv transmission line has been added to phnom penh and a sub-station has been installed in western part of phnom penh.',\n 'hence, understanding any law related to nssf is not easy.',\n 'generating income through irrigated agriculture and continual investments on water sector for agricultural productivity.',\n 'significant progress in promoting small and medium enterprises (smes) sector has been made through: .',\n 'developing and establishing the sub-national financial management system in compliance with the law on financial regime and property management of subnational administrations.',\n 'prepare legal standards for health insurance and prepare an it-based system for management of registration for pay-ins and pay-outs.',\n 'conducted sanitary education and training at villages and carried out disseminating campaigns on sanitation.',\n 'in view of the unique social and political conditions that the country has had, cambodia has made great strides in reducing poverty through implementing its national strategic development plan with focus on investments in population programs: in particular, on reproductive, maternal and child health (including family planning), and adhering to reproductive rights that promote choice.',\n 'other achievements also include reduction of under-5 mortality rate (u5mr) and hiv prevalence rate.',\n '% population getting  % population  imr 2010 (per  primary (2012-2013)  sec.',\n 'raise budget revenues (~18% of gdp by 2018), strengthen tax administration, promote priority sector spending, enforce results-based budgeting [& public finance management reform (pfmr)]; strengthen monetary and fiscal policy (incl.',\n 'the law on inter-country adoption was approved on dec 03, 2009.',\n 'it is difficult to control the physical movement of animals and animal products.',\n '\\x02 continue holding skill-training programs via the special foundation of samdech techo prime minister, to further stage 3.',\n 'these suffered a setback in 2009 due to slack (low) demand in the international markets.',\n 'consequently between 2009-2012, 23 natural protected areas expanded its areas from 3,100,199 ha to 3,111,041 ha.',\n 'peace, political stability, security and public order.',\n 'technical and vocational education program – implementing the national qualifications framework to improve quality of technical and vocational education and institutionalizing coordination among and between different stakeholders.',\n 'under 5 mortality rate (1,000 live births) 54 45 42 5.',\n '6: trends in poverty rates in cambodia by broad strata, 2007-2011  source: calculated from cses 2007 2008 2009 2010 2011 cambodia 47.',\n 'notwithstanding the significant progress that has been made, a number of challenges cambodia faced: .',\n 'list of tables, text boxes, and annexes .',\n 'of particular concern are the north-eastern provinces, where indigenous communities mainly dwell.',\n '\\x02 expand the coverage of microfinance services across the country and widely disseminate their benefits to the people.',\n 'strengthening institutional capacity to identify emerging population issues by periodically carrying out analyses and to monitor and update population policy.',\n '7 100 100 100 100 13 female % 91.',\n 'social accountability strategic plan for sub-national democratic development was approved by ncdd.',\n 'kh mop ministry of planning mop.gov.',\n 'the criterion of the introduction of new indicators (or dropping/altering existing indicators) is that a concerned ministry, government agency or some other government entity proposes such changes based on the logic of their rf.',\n 'innovative schemes to enhance performance and accountability such soa is being deployed.',\n 'committing to effectively fulfill its role in the regional and international affairs.',\n 'further promoting rural development through an increase of the scope of micro- finance and fostering effective use of low interest rate rural credit.',\n 'each of these is discussed later in this chapter and also in chapter iv.',\n 'promotion of small and medium enterprises 2.',\n 'in order to take advantage of integration into the region and the world, cambodia needs industry-based economy that promotes diversification of products of small and medium enterprises into an adding value.',\n 'voluntary activities for community development: the fa also sent 198 personnel to join the national and provincial working groups and voluntary youth groups to facilitate land measurement activities.',\n 'rgc is committed to ensuring an enabling business and investment environment for private investment as well as to making cambodia an attractive destination for investments.',\n 'encourage entrepreneurship & smes.',\n '10 total fertility rate (per 1,000) live births 2.',\n 'building capacities for improved public sector management.',\n 'promote environmentally sustainable transport plan.',\n 'enhancing knowledge and human resource capacity in science and technology, especially in the priority sectors including agriculture, livestock farming and aquaculture, industry, energy, construction and physical infrastructure, itc, healthcare and environment, through implementing a number of key measures including: (1) mainstreaming scientific and technological knowledge and its applications in academic curriculums at all levels especially in high school, vocational and technical training and higher education; and (2) promoting r&d including the introduction of a research network model linking universities, public institutions and industry.',\n 'control and coordinate businesses under concessional agreements.',\n '40 client satisfaction index % 86 87 87 88 88 89  cambodia at a glance  \\x0c national strategic development plan 2014-2018  particulars unit 2013 2014 2015 2016 2017 2018 16.',\n 'expanding the coverage and strengthening the efficiency of the backbone infrastructure, particularly by encouraging greater use of this infrastructure and further expanding to areas with high economic and tourism potential as well as remote areas without or with limited telecommunication services.',\n '4: key indicators on mines and erw………………………………………………… 133 table 4.',\n 'move towards universal health coverage, including establishing institutional structures and capacity building for oversight of social health protection.',\n '\\x02 establish a financial development center to attract financial flows.',\n 'producing programs on a wide range of educational topics about society, laws, gender and children, and awareness programs for all circles and the community.',\n 'a comprehensive strategy for regional cooperation to address issues facing fisheries in cambodia, including climate change, upstream damming of rivers, and environmental degradation, developed and fully implemented.',\n 'the fixed line telephone connections given out were 584,475 (equal to 3.',\n 'projects included in pip are prioritized– rgc institutions will assign a sequenced priority ranking to projects for which they are seeking resources to implement through the planning period of pip, taking into account the overall macroeconomic environment and an awareness of the scope, to mobilize external resources based on recent trends.',\n '1: trends in poverty rates in cambodia by broad strata, 2007-2011  2007 2008 2009 2010 2011 cambodia 47.',\n 'conservation and protection through key activities as below: \\x02installing concrete poles within the conservation areas for firmly them.',\n 'favorable changes in the rules of origin (roos) governing the e.u.’s everything but arms (eba) program, canada’s least developed country tariff (ldct) program, and implementation of free trade agreements with asean dialogue partners, triggered sharp increases in cambodia’s exports to those countries; in  particular, the garment exports.',\n 'dissemination on the danger drug through medias.',\n 'kh mosvy ministry of social affairs, veterans and youth rehabilitation mosvy.gov.',\n 'insufficient laws and guidelines for the selection, promotion, capacity enhancement and participation of civil servants.',\n 'fdi in the production of domestic inputs also needs to be encouraged.',\n 'kh mofa & ic ministry of foreign affairs & international cooperation mfaic.gov.',\n 'owing to less favorable market access conditions in the us, the share of cambodian exports to that country declined from 55% to 35% during 2007 to 2011.',\n 'the capital requirement in the form of a bank deposit for commercial registration was reduced from 20 million riels to 4 million riels.',\n '25 dengue hemorrhagic fever case fatality rate reported by public health facilities % 0.',\n '50 expansion of telecommunication services 13.',\n 'the 3 countries are at an advanced stage of agreement on inter/multi-country road transport arrangement.',\n 'trade deficit declined from -15.']"
      ]
     },
     "execution_count": 6,
     "metadata": {},
     "output_type": "execute_result"
    }
   ],
   "source": [
    "sentence[:100]"
   ]
  },
  {
   "cell_type": "code",
   "execution_count": null,
   "metadata": {},
   "outputs": [],
   "source": [
    ""
   ]
  }
 ],
 "metadata": {
  "anaconda-cloud": {},
  "kernelspec": {
   "display_name": "Python [conda root]",
   "language": "python",
   "name": "conda-root-py"
  },
  "language_info": {
   "codemirror_mode": {
    "name": "ipython",
    "version": 3.0
   },
   "file_extension": ".py",
   "mimetype": "text/x-python",
   "name": "python",
   "nbconvert_exporter": "python",
   "pygments_lexer": "ipython3",
   "version": "3.5.2"
  }
 },
 "nbformat": 4,
 "nbformat_minor": 0
}